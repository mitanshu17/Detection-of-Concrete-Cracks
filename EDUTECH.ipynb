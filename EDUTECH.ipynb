{
 "cells": [
  {
   "cell_type": "markdown",
   "metadata": {},
   "source": [
    "#  DETECTION OF CONCRETE CRACKS USING ML/AI\n",
    "### WE ARE APPLYING TRANSFER LEARNING BY USING THE MOBILENET V2 ARCHITECTURE AVAILABLE ON TENSORFLOW HUB:  https://tfhub.dev/google/imagenet/mobilenet_v2_130_224/classification/5 \n",
    "### DATASET USED: https://www.kaggle.com/datasets/xinzone/surface-crack (AS PROVIDED)\n",
    "### WE WERE ABLE TO ACHIEVE 98.5% ACCURACY IN DETECTING THE CRACKS ON THE VALIDATION DATASET AND 97% ACCURACY ON THE TEST DATASET. "
   ]
  },
  {
   "cell_type": "code",
   "execution_count": 1,
   "metadata": {
    "id": "C8KgOvnl7D8f"
   },
   "outputs": [
    {
     "name": "stderr",
     "output_type": "stream",
     "text": [
      "Using TensorFlow backend.\n"
     ]
    }
   ],
   "source": [
    "import pandas as pd\n",
    "import numpy as np\n",
    "import os\n",
    "import tensorflow as tf"
   ]
  },
  {
   "cell_type": "markdown",
   "metadata": {},
   "source": [
    "## DATA PREPROCESSING - MAKING ADDRESS DATAFRAMES AND CONVERTING IMAGES INTO TENSORS "
   ]
  },
  {
   "cell_type": "code",
   "execution_count": 2,
   "metadata": {
    "id": "juBAQpN4WA6P"
   },
   "outputs": [],
   "source": [
    "# DEFINING A FUNCTION WHICH TAKES ADDRESSES AS INPUTS AND RETURNS A DATAFRAME ALONG WITH LABELS\n",
    "def preprocess(pos,neg):\n",
    "    #LISTING DIIRECTORY\n",
    "    pos_path = os.listdir(pos)\n",
    "    neg_path = os.listdir(neg)\n",
    "    \n",
    "    #APPENDING THE ADDRESSES TO A LIST\n",
    "    path_pos, path_neg = [],[]\n",
    "    for i in range(0,len(pos_path)):\n",
    "        path1 = pos+ pos_path[i]\n",
    "        path_pos.append(path1)\n",
    "        path2 = neg + neg_path[i]\n",
    "        path_neg.append(path2)\n",
    "      \n",
    "    #ACCESSING THE LABELS\n",
    "    # POSITIVE = 1, NEGATIVE = 0\n",
    "    li1 = []\n",
    "    for i in range(0,len(path_pos)):\n",
    "        li1.append(1)\n",
    "\n",
    "    li2 = []\n",
    "    for i in range(0,len(path_neg)):\n",
    "        li2.append(0)\n",
    "    \n",
    "    #MAKING A DATAFRAME BY CONCATINATING THE POSITIVE LABELS DATAFRAME AND NEGATIVE LABEL DATASET\n",
    "    df1 = pd.DataFrame({\"ADDRESS\":path_pos,\"LABEL\":li1})\n",
    "    df2 = pd.DataFrame({\"ADDRESS\":path_neg,\"LABEL\":li2})\n",
    "    data = pd.concat([df1,df2])\n",
    "    #REINDEXING\n",
    "    data.reset_index(inplace=True)\n",
    "    return data"
   ]
  },
  {
   "cell_type": "code",
   "execution_count": 22,
   "metadata": {
    "id": "kdZmzXZDWNGq"
   },
   "outputs": [],
   "source": [
    "# DEFINING PARAMETERS\n",
    "IMG_SIZE = 224\n",
    "BATCH_SIZE=16\n",
    "\n",
    "# DEFINING A FUNCTION TO READ THE IMAGE GIVEN ITS ADDRESS AND CONVERTING IT TO A TENSOR\n",
    "def image_process(image_path):\n",
    "    #Reading an image\n",
    "    image=tf.io.read_file(image_path)\n",
    "    #Turning to tensors\n",
    "    image=tf.image.decode_jpeg(image,channels=3)\n",
    "    #Convert the colour value to 0-1\n",
    "    image=tf.image.convert_image_dtype(image,tf.float32)\n",
    "    #Resize the image\n",
    "    image=tf.image.resize(image,size=[IMG_SIZE,IMG_SIZE])\n",
    "    return image\n",
    "\n",
    "# DEFINING A FUNCTION THAT RETURNS THE IMAGE AND ITS LABEL\n",
    "def get_labels(image_path,label):\n",
    "    image = image_process(image_path)\n",
    "    return image,label\n",
    "\n",
    "# DEFINING A FUNCTION TO CREATE DATA BATCHES TO FEED TO THE NEURAL NETWORK\n",
    "def create_data_batches(x,y=None,batch_size = BATCH_SIZE,valid_data = False, test_data = False):\n",
    "    if test_data:\n",
    "        print(\"CREATING TEST BATCHES ...\")\n",
    "        data = tf.data.Dataset.from_tensor_slices((tf.constant(x)))\n",
    "        data_batch = data.map(image_process).batch(BATCH_SIZE)\n",
    "        return data_batch\n",
    "\n",
    "    elif valid_data:\n",
    "        print(\"CREATING VALIDATION BATCHES ...\")\n",
    "        data = tf.data.Dataset.from_tensor_slices((tf.constant(x),tf.constant(y)))\n",
    "        data_batch = data.map(get_labels).batch(BATCH_SIZE)\n",
    "        return data_batch\n",
    "\n",
    "    else :\n",
    "        print(\"CREATING TRAINING BATCHES ...\")\n",
    "        data = tf.data.Dataset.from_tensor_slices((tf.constant(x),tf.constant(y)))\n",
    "        #SHUFFLING\n",
    "        data = data.shuffle(buffer_size = len(x))\n",
    "        data_batch = data.map(get_labels).batch(BATCH_SIZE)\n",
    "        return data_batch"
   ]
  },
  {
   "cell_type": "markdown",
   "metadata": {},
   "source": [
    "## ADDRESS DATAFRAMES"
   ]
  },
  {
   "cell_type": "code",
   "execution_count": 6,
   "metadata": {
    "id": "kXGXx4if7cia"
   },
   "outputs": [
    {
     "data": {
      "text/html": [
       "<div>\n",
       "<style scoped>\n",
       "    .dataframe tbody tr th:only-of-type {\n",
       "        vertical-align: middle;\n",
       "    }\n",
       "\n",
       "    .dataframe tbody tr th {\n",
       "        vertical-align: top;\n",
       "    }\n",
       "\n",
       "    .dataframe thead th {\n",
       "        text-align: right;\n",
       "    }\n",
       "</style>\n",
       "<table border=\"1\" class=\"dataframe\">\n",
       "  <thead>\n",
       "    <tr style=\"text-align: right;\">\n",
       "      <th></th>\n",
       "      <th>ADDRESS</th>\n",
       "      <th>LABEL</th>\n",
       "    </tr>\n",
       "  </thead>\n",
       "  <tbody>\n",
       "    <tr>\n",
       "      <th>0</th>\n",
       "      <td>D:/ML/EDUTECH_HACKATHON_IITM/DATA/train/Positi...</td>\n",
       "      <td>1</td>\n",
       "    </tr>\n",
       "    <tr>\n",
       "      <th>1</th>\n",
       "      <td>D:/ML/EDUTECH_HACKATHON_IITM/DATA/train/Positi...</td>\n",
       "      <td>1</td>\n",
       "    </tr>\n",
       "    <tr>\n",
       "      <th>2</th>\n",
       "      <td>D:/ML/EDUTECH_HACKATHON_IITM/DATA/train/Positi...</td>\n",
       "      <td>1</td>\n",
       "    </tr>\n",
       "    <tr>\n",
       "      <th>3</th>\n",
       "      <td>D:/ML/EDUTECH_HACKATHON_IITM/DATA/train/Positi...</td>\n",
       "      <td>1</td>\n",
       "    </tr>\n",
       "    <tr>\n",
       "      <th>4</th>\n",
       "      <td>D:/ML/EDUTECH_HACKATHON_IITM/DATA/train/Positi...</td>\n",
       "      <td>1</td>\n",
       "    </tr>\n",
       "    <tr>\n",
       "      <th>...</th>\n",
       "      <td>...</td>\n",
       "      <td>...</td>\n",
       "    </tr>\n",
       "    <tr>\n",
       "      <th>595</th>\n",
       "      <td>D:/ML/EDUTECH_HACKATHON_IITM/DATA/train/Negati...</td>\n",
       "      <td>0</td>\n",
       "    </tr>\n",
       "    <tr>\n",
       "      <th>596</th>\n",
       "      <td>D:/ML/EDUTECH_HACKATHON_IITM/DATA/train/Negati...</td>\n",
       "      <td>0</td>\n",
       "    </tr>\n",
       "    <tr>\n",
       "      <th>597</th>\n",
       "      <td>D:/ML/EDUTECH_HACKATHON_IITM/DATA/train/Negati...</td>\n",
       "      <td>0</td>\n",
       "    </tr>\n",
       "    <tr>\n",
       "      <th>598</th>\n",
       "      <td>D:/ML/EDUTECH_HACKATHON_IITM/DATA/train/Negati...</td>\n",
       "      <td>0</td>\n",
       "    </tr>\n",
       "    <tr>\n",
       "      <th>599</th>\n",
       "      <td>D:/ML/EDUTECH_HACKATHON_IITM/DATA/train/Negati...</td>\n",
       "      <td>0</td>\n",
       "    </tr>\n",
       "  </tbody>\n",
       "</table>\n",
       "<p>600 rows × 2 columns</p>\n",
       "</div>"
      ],
      "text/plain": [
       "                                               ADDRESS  LABEL\n",
       "0    D:/ML/EDUTECH_HACKATHON_IITM/DATA/train/Positi...      1\n",
       "1    D:/ML/EDUTECH_HACKATHON_IITM/DATA/train/Positi...      1\n",
       "2    D:/ML/EDUTECH_HACKATHON_IITM/DATA/train/Positi...      1\n",
       "3    D:/ML/EDUTECH_HACKATHON_IITM/DATA/train/Positi...      1\n",
       "4    D:/ML/EDUTECH_HACKATHON_IITM/DATA/train/Positi...      1\n",
       "..                                                 ...    ...\n",
       "595  D:/ML/EDUTECH_HACKATHON_IITM/DATA/train/Negati...      0\n",
       "596  D:/ML/EDUTECH_HACKATHON_IITM/DATA/train/Negati...      0\n",
       "597  D:/ML/EDUTECH_HACKATHON_IITM/DATA/train/Negati...      0\n",
       "598  D:/ML/EDUTECH_HACKATHON_IITM/DATA/train/Negati...      0\n",
       "599  D:/ML/EDUTECH_HACKATHON_IITM/DATA/train/Negati...      0\n",
       "\n",
       "[600 rows x 2 columns]"
      ]
     },
     "execution_count": 6,
     "metadata": {},
     "output_type": "execute_result"
    }
   ],
   "source": [
    "# TRAINING DATASET\n",
    "\n",
    "pos = \"D:/ML/EDUTECH_HACKATHON_IITM/DATA/train/Positive/\"\n",
    "neg = \"D:/ML/EDUTECH_HACKATHON_IITM/DATA/train/Negative/\"\n",
    "data = preprocess(pos,neg)\n",
    "data.drop(\"index\",axis=1,inplace=True)\n",
    "data"
   ]
  },
  {
   "cell_type": "code",
   "execution_count": 7,
   "metadata": {
    "id": "IbpE6vvUVjlK"
   },
   "outputs": [
    {
     "data": {
      "text/html": [
       "<div>\n",
       "<style scoped>\n",
       "    .dataframe tbody tr th:only-of-type {\n",
       "        vertical-align: middle;\n",
       "    }\n",
       "\n",
       "    .dataframe tbody tr th {\n",
       "        vertical-align: top;\n",
       "    }\n",
       "\n",
       "    .dataframe thead th {\n",
       "        text-align: right;\n",
       "    }\n",
       "</style>\n",
       "<table border=\"1\" class=\"dataframe\">\n",
       "  <thead>\n",
       "    <tr style=\"text-align: right;\">\n",
       "      <th></th>\n",
       "      <th>ADDRESS</th>\n",
       "      <th>LABEL</th>\n",
       "    </tr>\n",
       "  </thead>\n",
       "  <tbody>\n",
       "    <tr>\n",
       "      <th>0</th>\n",
       "      <td>D:/ML/EDUTECH_HACKATHON_IITM/DATA/valid/Positi...</td>\n",
       "      <td>1</td>\n",
       "    </tr>\n",
       "    <tr>\n",
       "      <th>1</th>\n",
       "      <td>D:/ML/EDUTECH_HACKATHON_IITM/DATA/valid/Positi...</td>\n",
       "      <td>1</td>\n",
       "    </tr>\n",
       "    <tr>\n",
       "      <th>2</th>\n",
       "      <td>D:/ML/EDUTECH_HACKATHON_IITM/DATA/valid/Positi...</td>\n",
       "      <td>1</td>\n",
       "    </tr>\n",
       "    <tr>\n",
       "      <th>3</th>\n",
       "      <td>D:/ML/EDUTECH_HACKATHON_IITM/DATA/valid/Positi...</td>\n",
       "      <td>1</td>\n",
       "    </tr>\n",
       "    <tr>\n",
       "      <th>4</th>\n",
       "      <td>D:/ML/EDUTECH_HACKATHON_IITM/DATA/valid/Positi...</td>\n",
       "      <td>1</td>\n",
       "    </tr>\n",
       "    <tr>\n",
       "      <th>...</th>\n",
       "      <td>...</td>\n",
       "      <td>...</td>\n",
       "    </tr>\n",
       "    <tr>\n",
       "      <th>195</th>\n",
       "      <td>D:/ML/EDUTECH_HACKATHON_IITM/DATA/valid/Negati...</td>\n",
       "      <td>0</td>\n",
       "    </tr>\n",
       "    <tr>\n",
       "      <th>196</th>\n",
       "      <td>D:/ML/EDUTECH_HACKATHON_IITM/DATA/valid/Negati...</td>\n",
       "      <td>0</td>\n",
       "    </tr>\n",
       "    <tr>\n",
       "      <th>197</th>\n",
       "      <td>D:/ML/EDUTECH_HACKATHON_IITM/DATA/valid/Negati...</td>\n",
       "      <td>0</td>\n",
       "    </tr>\n",
       "    <tr>\n",
       "      <th>198</th>\n",
       "      <td>D:/ML/EDUTECH_HACKATHON_IITM/DATA/valid/Negati...</td>\n",
       "      <td>0</td>\n",
       "    </tr>\n",
       "    <tr>\n",
       "      <th>199</th>\n",
       "      <td>D:/ML/EDUTECH_HACKATHON_IITM/DATA/valid/Negati...</td>\n",
       "      <td>0</td>\n",
       "    </tr>\n",
       "  </tbody>\n",
       "</table>\n",
       "<p>200 rows × 2 columns</p>\n",
       "</div>"
      ],
      "text/plain": [
       "                                               ADDRESS  LABEL\n",
       "0    D:/ML/EDUTECH_HACKATHON_IITM/DATA/valid/Positi...      1\n",
       "1    D:/ML/EDUTECH_HACKATHON_IITM/DATA/valid/Positi...      1\n",
       "2    D:/ML/EDUTECH_HACKATHON_IITM/DATA/valid/Positi...      1\n",
       "3    D:/ML/EDUTECH_HACKATHON_IITM/DATA/valid/Positi...      1\n",
       "4    D:/ML/EDUTECH_HACKATHON_IITM/DATA/valid/Positi...      1\n",
       "..                                                 ...    ...\n",
       "195  D:/ML/EDUTECH_HACKATHON_IITM/DATA/valid/Negati...      0\n",
       "196  D:/ML/EDUTECH_HACKATHON_IITM/DATA/valid/Negati...      0\n",
       "197  D:/ML/EDUTECH_HACKATHON_IITM/DATA/valid/Negati...      0\n",
       "198  D:/ML/EDUTECH_HACKATHON_IITM/DATA/valid/Negati...      0\n",
       "199  D:/ML/EDUTECH_HACKATHON_IITM/DATA/valid/Negati...      0\n",
       "\n",
       "[200 rows x 2 columns]"
      ]
     },
     "execution_count": 7,
     "metadata": {},
     "output_type": "execute_result"
    }
   ],
   "source": [
    "# VALIDATION DATASET\n",
    "\n",
    "pos1 = \"D:/ML/EDUTECH_HACKATHON_IITM/DATA/valid/Positive/\"\n",
    "neg1 = \"D:/ML/EDUTECH_HACKATHON_IITM/DATA/valid/Negative/\"\n",
    "data1 = preprocess(pos1,neg1)\n",
    "data1.drop(\"index\",axis=1,inplace=True)\n",
    "data1"
   ]
  },
  {
   "cell_type": "code",
   "execution_count": 8,
   "metadata": {
    "id": "IbpE6vvUVjlK"
   },
   "outputs": [
    {
     "data": {
      "text/html": [
       "<div>\n",
       "<style scoped>\n",
       "    .dataframe tbody tr th:only-of-type {\n",
       "        vertical-align: middle;\n",
       "    }\n",
       "\n",
       "    .dataframe tbody tr th {\n",
       "        vertical-align: top;\n",
       "    }\n",
       "\n",
       "    .dataframe thead th {\n",
       "        text-align: right;\n",
       "    }\n",
       "</style>\n",
       "<table border=\"1\" class=\"dataframe\">\n",
       "  <thead>\n",
       "    <tr style=\"text-align: right;\">\n",
       "      <th></th>\n",
       "      <th>ADDRESS</th>\n",
       "      <th>LABEL</th>\n",
       "    </tr>\n",
       "  </thead>\n",
       "  <tbody>\n",
       "    <tr>\n",
       "      <th>0</th>\n",
       "      <td>D:/ML/EDUTECH_HACKATHON_IITM/DATA/test/Positiv...</td>\n",
       "      <td>1</td>\n",
       "    </tr>\n",
       "    <tr>\n",
       "      <th>1</th>\n",
       "      <td>D:/ML/EDUTECH_HACKATHON_IITM/DATA/test/Positiv...</td>\n",
       "      <td>1</td>\n",
       "    </tr>\n",
       "    <tr>\n",
       "      <th>2</th>\n",
       "      <td>D:/ML/EDUTECH_HACKATHON_IITM/DATA/test/Positiv...</td>\n",
       "      <td>1</td>\n",
       "    </tr>\n",
       "    <tr>\n",
       "      <th>3</th>\n",
       "      <td>D:/ML/EDUTECH_HACKATHON_IITM/DATA/test/Positiv...</td>\n",
       "      <td>1</td>\n",
       "    </tr>\n",
       "    <tr>\n",
       "      <th>4</th>\n",
       "      <td>D:/ML/EDUTECH_HACKATHON_IITM/DATA/test/Positiv...</td>\n",
       "      <td>1</td>\n",
       "    </tr>\n",
       "    <tr>\n",
       "      <th>...</th>\n",
       "      <td>...</td>\n",
       "      <td>...</td>\n",
       "    </tr>\n",
       "    <tr>\n",
       "      <th>195</th>\n",
       "      <td>D:/ML/EDUTECH_HACKATHON_IITM/DATA/test/Negativ...</td>\n",
       "      <td>0</td>\n",
       "    </tr>\n",
       "    <tr>\n",
       "      <th>196</th>\n",
       "      <td>D:/ML/EDUTECH_HACKATHON_IITM/DATA/test/Negativ...</td>\n",
       "      <td>0</td>\n",
       "    </tr>\n",
       "    <tr>\n",
       "      <th>197</th>\n",
       "      <td>D:/ML/EDUTECH_HACKATHON_IITM/DATA/test/Negativ...</td>\n",
       "      <td>0</td>\n",
       "    </tr>\n",
       "    <tr>\n",
       "      <th>198</th>\n",
       "      <td>D:/ML/EDUTECH_HACKATHON_IITM/DATA/test/Negativ...</td>\n",
       "      <td>0</td>\n",
       "    </tr>\n",
       "    <tr>\n",
       "      <th>199</th>\n",
       "      <td>D:/ML/EDUTECH_HACKATHON_IITM/DATA/test/Negativ...</td>\n",
       "      <td>0</td>\n",
       "    </tr>\n",
       "  </tbody>\n",
       "</table>\n",
       "<p>200 rows × 2 columns</p>\n",
       "</div>"
      ],
      "text/plain": [
       "                                               ADDRESS  LABEL\n",
       "0    D:/ML/EDUTECH_HACKATHON_IITM/DATA/test/Positiv...      1\n",
       "1    D:/ML/EDUTECH_HACKATHON_IITM/DATA/test/Positiv...      1\n",
       "2    D:/ML/EDUTECH_HACKATHON_IITM/DATA/test/Positiv...      1\n",
       "3    D:/ML/EDUTECH_HACKATHON_IITM/DATA/test/Positiv...      1\n",
       "4    D:/ML/EDUTECH_HACKATHON_IITM/DATA/test/Positiv...      1\n",
       "..                                                 ...    ...\n",
       "195  D:/ML/EDUTECH_HACKATHON_IITM/DATA/test/Negativ...      0\n",
       "196  D:/ML/EDUTECH_HACKATHON_IITM/DATA/test/Negativ...      0\n",
       "197  D:/ML/EDUTECH_HACKATHON_IITM/DATA/test/Negativ...      0\n",
       "198  D:/ML/EDUTECH_HACKATHON_IITM/DATA/test/Negativ...      0\n",
       "199  D:/ML/EDUTECH_HACKATHON_IITM/DATA/test/Negativ...      0\n",
       "\n",
       "[200 rows x 2 columns]"
      ]
     },
     "execution_count": 8,
     "metadata": {},
     "output_type": "execute_result"
    }
   ],
   "source": [
    "# TEST DATASET\n",
    "\n",
    "pos2 = \"D:/ML/EDUTECH_HACKATHON_IITM/DATA/test/Positive/\"\n",
    "neg2 = \"D:/ML/EDUTECH_HACKATHON_IITM/DATA/test/Negative/\"\n",
    "data2 = preprocess(pos2,neg2)\n",
    "data2.drop(\"index\",axis=1,inplace=True)\n",
    "data2"
   ]
  },
  {
   "cell_type": "markdown",
   "metadata": {},
   "source": [
    "## CREATING DATA BATCHES"
   ]
  },
  {
   "cell_type": "code",
   "execution_count": 25,
   "metadata": {
    "colab": {
     "base_uri": "https://localhost:8080/"
    },
    "id": "MpFXBPWAWRjZ",
    "outputId": "14f658be-10d4-418d-d3c3-6a110cc6fa81"
   },
   "outputs": [
    {
     "name": "stdout",
     "output_type": "stream",
     "text": [
      "CREATING TRAINING BATCHES ...\n"
     ]
    }
   ],
   "source": [
    "# CREATING TRAINING DATA BATCHES\n",
    "x=data[\"ADDRESS\"]\n",
    "y=data[\"LABEL\"]\n",
    "train=create_data_batches(x,y,batch_size = BATCH_SIZE)"
   ]
  },
  {
   "cell_type": "code",
   "execution_count": null,
   "metadata": {
    "id": "gx2jeKbdV7x6"
   },
   "outputs": [],
   "source": [
    "x1 = data1[\"ADDRESS\"]\n",
    "y1 = data1[\"LABEL\"]"
   ]
  },
  {
   "cell_type": "code",
   "execution_count": 26,
   "metadata": {
    "id": "gx2jeKbdV7x6"
   },
   "outputs": [],
   "source": [
    "x2 = data2[\"ADDRESS\"]\n",
    "y2 = data2[\"LABEL\"]"
   ]
  },
  {
   "cell_type": "code",
   "execution_count": 27,
   "metadata": {
    "colab": {
     "base_uri": "https://localhost:8080/"
    },
    "id": "Ola5UvB8Xryt",
    "outputId": "56369ed2-9242-4b6b-f5bd-2410d3a72e07"
   },
   "outputs": [
    {
     "name": "stdout",
     "output_type": "stream",
     "text": [
      "CREATING VALIDATION BATCHES ...\n",
      "CREATING TEST BATCHES ...\n"
     ]
    }
   ],
   "source": [
    "# CREATING VALIDATION AND TEST DATA BATCHES\n",
    "valid = create_data_batches(x1,y1,valid_data=True,batch_size = BATCH_SIZE)\n",
    "test = create_data_batches(x2,y2,test_data=True,batch_size = BATCH_SIZE)"
   ]
  },
  {
   "cell_type": "markdown",
   "metadata": {},
   "source": [
    "## MODEL TRAINING"
   ]
  },
  {
   "cell_type": "code",
   "execution_count": 28,
   "metadata": {
    "id": "N3IkhAIUB-Jl"
   },
   "outputs": [],
   "source": [
    "# DEFINING OTHER REQUIRED PARAMETERS\n",
    "INPUT_SHAPE = [None,IMG_SIZE,IMG_SIZE,3]\n",
    "OUTPUT_SHAPE = 1"
   ]
  },
  {
   "cell_type": "code",
   "execution_count": 29,
   "metadata": {
    "id": "QDfkQMt7CJQg"
   },
   "outputs": [],
   "source": [
    "# THE MODEL URL FROM TENSORFLOW HUB - THE MOBILENET V2 ARCHITECTURE\n",
    "MODEL_URL = \"https://tfhub.dev/google/imagenet/mobilenet_v2_130_224/classification/5\""
   ]
  },
  {
   "cell_type": "code",
   "execution_count": 30,
   "metadata": {
    "id": "HzYgl9CSCMQj"
   },
   "outputs": [],
   "source": [
    "import tensorflow_hub as hub\n",
    "\n",
    "# DEFINING A FUNCTION TO CREATE THE MODEL\n",
    "def create_model(input_shape = INPUT_SHAPE,output_shape=OUTPUT_SHAPE,model_url = MODEL_URL):\n",
    "    print(\"BUILDING MODEL WITH \",MODEL_URL)\n",
    "\n",
    "    # SETUP MODEL LAYERS\n",
    "    model = tf.keras.Sequential([\n",
    "        hub.KerasLayer(MODEL_URL),\n",
    "        tf.keras.layers.Dense(units=OUTPUT_SHAPE,activation=\"sigmoid\")\n",
    "    ])\n",
    "\n",
    "    # COMPILING THE MODEL\n",
    "    model.compile(\n",
    "        loss = tf.keras.losses.BinaryCrossentropy(),  # AS BINARY CLASSIFICATION\n",
    "        optimizer = tf.keras.optimizers.Adam(),\n",
    "        metrics = [\"accuracy\"]\n",
    "    )\n",
    "  \n",
    "    #BUILD THE MODEL\n",
    "    model.build(INPUT_SHAPE)\n",
    "    return model"
   ]
  },
  {
   "cell_type": "code",
   "execution_count": 31,
   "metadata": {
    "colab": {
     "base_uri": "https://localhost:8080/"
    },
    "id": "9OmYYGLyCX9M",
    "outputId": "48da4bd5-9e06-47d8-8da3-488d95843461"
   },
   "outputs": [
    {
     "name": "stdout",
     "output_type": "stream",
     "text": [
      "BUILDING MODEL WITH  https://tfhub.dev/google/imagenet/mobilenet_v2_130_224/classification/5\n"
     ]
    }
   ],
   "source": [
    "model = create_model()"
   ]
  },
  {
   "cell_type": "code",
   "execution_count": 32,
   "metadata": {
    "colab": {
     "base_uri": "https://localhost:8080/"
    },
    "id": "LZ6-corECZqX",
    "outputId": "09aad5b3-f820-4e04-c939-6d65f77ea8fc"
   },
   "outputs": [
    {
     "name": "stdout",
     "output_type": "stream",
     "text": [
      "Model: \"sequential_2\"\n",
      "_________________________________________________________________\n",
      " Layer (type)                Output Shape              Param #   \n",
      "=================================================================\n",
      " keras_layer_2 (KerasLayer)  (None, 1001)              5432713   \n",
      "                                                                 \n",
      " dense_2 (Dense)             (None, 1)                 1002      \n",
      "                                                                 \n",
      "=================================================================\n",
      "Total params: 5,433,715\n",
      "Trainable params: 1,002\n",
      "Non-trainable params: 5,432,713\n",
      "_________________________________________________________________\n"
     ]
    }
   ],
   "source": [
    "model.summary()"
   ]
  },
  {
   "cell_type": "code",
   "execution_count": 41,
   "metadata": {
    "id": "iUW0oBG9Chvq"
   },
   "outputs": [],
   "source": [
    "NUM_EPOCHS=50\n",
    "# DEFINING A FUNCTION TO TRAIN THE MODEL AND CALCULATE VALIDATION ACCURACY AT THE SAME TIME\n",
    "def train_model():\n",
    "    model = create_model()\n",
    "    model.fit(x=train,epochs=NUM_EPOCHS,validation_data=valid,validation_freq =1 )\n",
    "    return model"
   ]
  },
  {
   "cell_type": "code",
   "execution_count": 42,
   "metadata": {
    "colab": {
     "base_uri": "https://localhost:8080/"
    },
    "id": "-TYf46ZADjoC",
    "outputId": "e438aa9f-719c-403b-95a2-4a0be5014a79"
   },
   "outputs": [
    {
     "name": "stdout",
     "output_type": "stream",
     "text": [
      "BUILDING MODEL WITH  https://tfhub.dev/google/imagenet/mobilenet_v2_130_224/classification/5\n",
      "Epoch 1/50\n",
      "38/38 [==============================] - 5s 59ms/step - loss: 0.3731 - accuracy: 0.8250 - val_loss: 0.1727 - val_accuracy: 0.9000\n",
      "Epoch 2/50\n",
      "38/38 [==============================] - 2s 48ms/step - loss: 0.1013 - accuracy: 0.9650 - val_loss: 0.0888 - val_accuracy: 0.9800\n",
      "Epoch 3/50\n",
      "38/38 [==============================] - 2s 53ms/step - loss: 0.0771 - accuracy: 0.9800 - val_loss: 0.0943 - val_accuracy: 0.9650\n",
      "Epoch 4/50\n",
      "38/38 [==============================] - 2s 48ms/step - loss: 0.0636 - accuracy: 0.9817 - val_loss: 0.0662 - val_accuracy: 0.9800\n",
      "Epoch 5/50\n",
      "38/38 [==============================] - 2s 47ms/step - loss: 0.0531 - accuracy: 0.9833 - val_loss: 0.0660 - val_accuracy: 0.9800\n",
      "Epoch 6/50\n",
      "38/38 [==============================] - 2s 48ms/step - loss: 0.0465 - accuracy: 0.9867 - val_loss: 0.0551 - val_accuracy: 0.9850\n",
      "Epoch 7/50\n",
      "38/38 [==============================] - 2s 50ms/step - loss: 0.0409 - accuracy: 0.9850 - val_loss: 0.0514 - val_accuracy: 0.9800\n",
      "Epoch 8/50\n",
      "38/38 [==============================] - 2s 49ms/step - loss: 0.0361 - accuracy: 0.9900 - val_loss: 0.0482 - val_accuracy: 0.9850\n",
      "Epoch 9/50\n",
      "38/38 [==============================] - 2s 52ms/step - loss: 0.0315 - accuracy: 0.9917 - val_loss: 0.0473 - val_accuracy: 0.9800\n",
      "Epoch 10/50\n",
      "38/38 [==============================] - 2s 52ms/step - loss: 0.0287 - accuracy: 0.9933 - val_loss: 0.0523 - val_accuracy: 0.9750\n",
      "Epoch 11/50\n",
      "38/38 [==============================] - 2s 47ms/step - loss: 0.0259 - accuracy: 0.9950 - val_loss: 0.0427 - val_accuracy: 0.9850\n",
      "Epoch 12/50\n",
      "38/38 [==============================] - 2s 52ms/step - loss: 0.0245 - accuracy: 0.9933 - val_loss: 0.0429 - val_accuracy: 0.9850\n",
      "Epoch 13/50\n",
      "38/38 [==============================] - 2s 49ms/step - loss: 0.0227 - accuracy: 0.9950 - val_loss: 0.0414 - val_accuracy: 0.9800\n",
      "Epoch 14/50\n",
      "38/38 [==============================] - 2s 48ms/step - loss: 0.0210 - accuracy: 0.9950 - val_loss: 0.0411 - val_accuracy: 0.9800\n",
      "Epoch 15/50\n",
      "38/38 [==============================] - 2s 49ms/step - loss: 0.0204 - accuracy: 0.9933 - val_loss: 0.0412 - val_accuracy: 0.9750\n",
      "Epoch 16/50\n",
      "38/38 [==============================] - 2s 49ms/step - loss: 0.0180 - accuracy: 0.9967 - val_loss: 0.0381 - val_accuracy: 0.9750\n",
      "Epoch 17/50\n",
      "38/38 [==============================] - 2s 47ms/step - loss: 0.0162 - accuracy: 0.9967 - val_loss: 0.0366 - val_accuracy: 0.9850\n",
      "Epoch 18/50\n",
      "38/38 [==============================] - 2s 49ms/step - loss: 0.0147 - accuracy: 0.9967 - val_loss: 0.0354 - val_accuracy: 0.9800\n",
      "Epoch 19/50\n",
      "38/38 [==============================] - 2s 49ms/step - loss: 0.0143 - accuracy: 0.9967 - val_loss: 0.0350 - val_accuracy: 0.9850\n",
      "Epoch 20/50\n",
      "38/38 [==============================] - 2s 49ms/step - loss: 0.0133 - accuracy: 0.9983 - val_loss: 0.0348 - val_accuracy: 0.9800\n",
      "Epoch 21/50\n",
      "38/38 [==============================] - 2s 50ms/step - loss: 0.0124 - accuracy: 0.9983 - val_loss: 0.0328 - val_accuracy: 0.9850\n",
      "Epoch 22/50\n",
      "38/38 [==============================] - 2s 49ms/step - loss: 0.0119 - accuracy: 1.0000 - val_loss: 0.0342 - val_accuracy: 0.9850\n",
      "Epoch 23/50\n",
      "38/38 [==============================] - 2s 49ms/step - loss: 0.0109 - accuracy: 0.9983 - val_loss: 0.0334 - val_accuracy: 0.9750\n",
      "Epoch 24/50\n",
      "38/38 [==============================] - 2s 48ms/step - loss: 0.0108 - accuracy: 0.9983 - val_loss: 0.0316 - val_accuracy: 0.9900\n",
      "Epoch 25/50\n",
      "38/38 [==============================] - 2s 48ms/step - loss: 0.0096 - accuracy: 0.9983 - val_loss: 0.0308 - val_accuracy: 0.9900\n",
      "Epoch 26/50\n",
      "38/38 [==============================] - 2s 48ms/step - loss: 0.0091 - accuracy: 0.9983 - val_loss: 0.0296 - val_accuracy: 0.9900\n",
      "Epoch 27/50\n",
      "38/38 [==============================] - 2s 48ms/step - loss: 0.0085 - accuracy: 0.9983 - val_loss: 0.0303 - val_accuracy: 0.9900\n",
      "Epoch 28/50\n",
      "38/38 [==============================] - 2s 48ms/step - loss: 0.0086 - accuracy: 0.9983 - val_loss: 0.0297 - val_accuracy: 0.9900\n",
      "Epoch 29/50\n",
      "38/38 [==============================] - 2s 48ms/step - loss: 0.0075 - accuracy: 0.9983 - val_loss: 0.0284 - val_accuracy: 0.9850\n",
      "Epoch 30/50\n",
      "38/38 [==============================] - 2s 48ms/step - loss: 0.0073 - accuracy: 1.0000 - val_loss: 0.0295 - val_accuracy: 0.9850\n",
      "Epoch 31/50\n",
      "38/38 [==============================] - 2s 49ms/step - loss: 0.0072 - accuracy: 1.0000 - val_loss: 0.0277 - val_accuracy: 0.9850\n",
      "Epoch 32/50\n",
      "38/38 [==============================] - 2s 48ms/step - loss: 0.0065 - accuracy: 1.0000 - val_loss: 0.0276 - val_accuracy: 0.9900\n",
      "Epoch 33/50\n",
      "38/38 [==============================] - 2s 49ms/step - loss: 0.0066 - accuracy: 1.0000 - val_loss: 0.0278 - val_accuracy: 0.9900\n",
      "Epoch 34/50\n",
      "38/38 [==============================] - 2s 48ms/step - loss: 0.0065 - accuracy: 0.9983 - val_loss: 0.0278 - val_accuracy: 0.9900\n",
      "Epoch 35/50\n",
      "38/38 [==============================] - 2s 49ms/step - loss: 0.0058 - accuracy: 1.0000 - val_loss: 0.0278 - val_accuracy: 0.9850\n",
      "Epoch 36/50\n",
      "38/38 [==============================] - 2s 48ms/step - loss: 0.0056 - accuracy: 1.0000 - val_loss: 0.0263 - val_accuracy: 0.9850\n",
      "Epoch 37/50\n",
      "38/38 [==============================] - 2s 48ms/step - loss: 0.0053 - accuracy: 1.0000 - val_loss: 0.0266 - val_accuracy: 0.9850\n",
      "Epoch 38/50\n",
      "38/38 [==============================] - 2s 48ms/step - loss: 0.0051 - accuracy: 1.0000 - val_loss: 0.0265 - val_accuracy: 0.9900\n",
      "Epoch 39/50\n",
      "38/38 [==============================] - 2s 49ms/step - loss: 0.0048 - accuracy: 1.0000 - val_loss: 0.0257 - val_accuracy: 0.9850\n",
      "Epoch 40/50\n",
      "38/38 [==============================] - 2s 48ms/step - loss: 0.0046 - accuracy: 1.0000 - val_loss: 0.0266 - val_accuracy: 0.9900\n",
      "Epoch 41/50\n",
      "38/38 [==============================] - 2s 49ms/step - loss: 0.0044 - accuracy: 1.0000 - val_loss: 0.0260 - val_accuracy: 0.9850\n",
      "Epoch 42/50\n",
      "38/38 [==============================] - 2s 49ms/step - loss: 0.0042 - accuracy: 1.0000 - val_loss: 0.0254 - val_accuracy: 0.9850\n",
      "Epoch 43/50\n",
      "38/38 [==============================] - 2s 48ms/step - loss: 0.0042 - accuracy: 1.0000 - val_loss: 0.0252 - val_accuracy: 0.9850\n",
      "Epoch 44/50\n",
      "38/38 [==============================] - 2s 48ms/step - loss: 0.0039 - accuracy: 1.0000 - val_loss: 0.0257 - val_accuracy: 0.9850\n",
      "Epoch 45/50\n",
      "38/38 [==============================] - 2s 49ms/step - loss: 0.0037 - accuracy: 1.0000 - val_loss: 0.0257 - val_accuracy: 0.9850\n",
      "Epoch 46/50\n",
      "38/38 [==============================] - 2s 48ms/step - loss: 0.0037 - accuracy: 1.0000 - val_loss: 0.0256 - val_accuracy: 0.9850\n",
      "Epoch 47/50\n",
      "38/38 [==============================] - 2s 48ms/step - loss: 0.0037 - accuracy: 1.0000 - val_loss: 0.0255 - val_accuracy: 0.9900\n",
      "Epoch 48/50\n",
      "38/38 [==============================] - 2s 53ms/step - loss: 0.0034 - accuracy: 1.0000 - val_loss: 0.0253 - val_accuracy: 0.9850\n",
      "Epoch 49/50\n",
      "38/38 [==============================] - 2s 49ms/step - loss: 0.0033 - accuracy: 1.0000 - val_loss: 0.0248 - val_accuracy: 0.9850\n",
      "Epoch 50/50\n",
      "38/38 [==============================] - 2s 48ms/step - loss: 0.0032 - accuracy: 1.0000 - val_loss: 0.0247 - val_accuracy: 0.9850\n"
     ]
    }
   ],
   "source": [
    "model = train_model()"
   ]
  },
  {
   "cell_type": "markdown",
   "metadata": {},
   "source": [
    "## MAKING PREDICTIONS"
   ]
  },
  {
   "cell_type": "code",
   "execution_count": 43,
   "metadata": {
    "colab": {
     "base_uri": "https://localhost:8080/"
    },
    "id": "sMFdMT21MOTE",
    "outputId": "88bf1735-ae17-474e-8841-2016a0b1d354"
   },
   "outputs": [
    {
     "name": "stdout",
     "output_type": "stream",
     "text": [
      "13/13 [==============================] - 1s 33ms/step\n"
     ]
    }
   ],
   "source": [
    "# MAKING PREDICTIONS ON THE TEST DATASET\n",
    "preds = model.predict(test)\n",
    "\n",
    "# MAKING THE PREDICTION PROBABILITIES A WHOLE NUMBER, THAT IS, 0 OR 1 (POSITIVE = 1, NEGATIVE = 0)\n",
    "for i in range(0,len(preds)):\n",
    "    if preds[i][0]>0.5:\n",
    "        preds[i][0] = 1\n",
    "    else:\n",
    "        preds[i][0] = 0"
   ]
  },
  {
   "cell_type": "code",
   "execution_count": 44,
   "metadata": {
    "colab": {
     "base_uri": "https://localhost:8080/",
     "height": 423
    },
    "id": "pNLLERHvYUTW",
    "outputId": "0bd9f0a1-5348-4d65-8348-8f2509868f11"
   },
   "outputs": [
    {
     "data": {
      "text/html": [
       "\n",
       "  <div id=\"df-30447a30-32d2-48a7-ace9-769b57652970\">\n",
       "    <div class=\"colab-df-container\">\n",
       "      <div>\n",
       "<style scoped>\n",
       "    .dataframe tbody tr th:only-of-type {\n",
       "        vertical-align: middle;\n",
       "    }\n",
       "\n",
       "    .dataframe tbody tr th {\n",
       "        vertical-align: top;\n",
       "    }\n",
       "\n",
       "    .dataframe thead th {\n",
       "        text-align: right;\n",
       "    }\n",
       "</style>\n",
       "<table border=\"1\" class=\"dataframe\">\n",
       "  <thead>\n",
       "    <tr style=\"text-align: right;\">\n",
       "      <th></th>\n",
       "      <th>PREDS</th>\n",
       "      <th>TRUE</th>\n",
       "    </tr>\n",
       "  </thead>\n",
       "  <tbody>\n",
       "    <tr>\n",
       "      <th>0</th>\n",
       "      <td>1.0</td>\n",
       "      <td>1</td>\n",
       "    </tr>\n",
       "    <tr>\n",
       "      <th>1</th>\n",
       "      <td>1.0</td>\n",
       "      <td>1</td>\n",
       "    </tr>\n",
       "    <tr>\n",
       "      <th>2</th>\n",
       "      <td>1.0</td>\n",
       "      <td>1</td>\n",
       "    </tr>\n",
       "    <tr>\n",
       "      <th>3</th>\n",
       "      <td>1.0</td>\n",
       "      <td>1</td>\n",
       "    </tr>\n",
       "    <tr>\n",
       "      <th>4</th>\n",
       "      <td>1.0</td>\n",
       "      <td>1</td>\n",
       "    </tr>\n",
       "    <tr>\n",
       "      <th>...</th>\n",
       "      <td>...</td>\n",
       "      <td>...</td>\n",
       "    </tr>\n",
       "    <tr>\n",
       "      <th>195</th>\n",
       "      <td>0.0</td>\n",
       "      <td>0</td>\n",
       "    </tr>\n",
       "    <tr>\n",
       "      <th>196</th>\n",
       "      <td>0.0</td>\n",
       "      <td>0</td>\n",
       "    </tr>\n",
       "    <tr>\n",
       "      <th>197</th>\n",
       "      <td>0.0</td>\n",
       "      <td>0</td>\n",
       "    </tr>\n",
       "    <tr>\n",
       "      <th>198</th>\n",
       "      <td>1.0</td>\n",
       "      <td>0</td>\n",
       "    </tr>\n",
       "    <tr>\n",
       "      <th>199</th>\n",
       "      <td>0.0</td>\n",
       "      <td>0</td>\n",
       "    </tr>\n",
       "  </tbody>\n",
       "</table>\n",
       "<p>200 rows × 2 columns</p>\n",
       "</div>\n",
       "      <button class=\"colab-df-convert\" onclick=\"convertToInteractive('df-30447a30-32d2-48a7-ace9-769b57652970')\"\n",
       "              title=\"Convert this dataframe to an interactive table.\"\n",
       "              style=\"display:none;\">\n",
       "        \n",
       "  <svg xmlns=\"http://www.w3.org/2000/svg\" height=\"24px\"viewBox=\"0 0 24 24\"\n",
       "       width=\"24px\">\n",
       "    <path d=\"M0 0h24v24H0V0z\" fill=\"none\"/>\n",
       "    <path d=\"M18.56 5.44l.94 2.06.94-2.06 2.06-.94-2.06-.94-.94-2.06-.94 2.06-2.06.94zm-11 1L8.5 8.5l.94-2.06 2.06-.94-2.06-.94L8.5 2.5l-.94 2.06-2.06.94zm10 10l.94 2.06.94-2.06 2.06-.94-2.06-.94-.94-2.06-.94 2.06-2.06.94z\"/><path d=\"M17.41 7.96l-1.37-1.37c-.4-.4-.92-.59-1.43-.59-.52 0-1.04.2-1.43.59L10.3 9.45l-7.72 7.72c-.78.78-.78 2.05 0 2.83L4 21.41c.39.39.9.59 1.41.59.51 0 1.02-.2 1.41-.59l7.78-7.78 2.81-2.81c.8-.78.8-2.07 0-2.86zM5.41 20L4 18.59l7.72-7.72 1.47 1.35L5.41 20z\"/>\n",
       "  </svg>\n",
       "      </button>\n",
       "      \n",
       "  <style>\n",
       "    .colab-df-container {\n",
       "      display:flex;\n",
       "      flex-wrap:wrap;\n",
       "      gap: 12px;\n",
       "    }\n",
       "\n",
       "    .colab-df-convert {\n",
       "      background-color: #E8F0FE;\n",
       "      border: none;\n",
       "      border-radius: 50%;\n",
       "      cursor: pointer;\n",
       "      display: none;\n",
       "      fill: #1967D2;\n",
       "      height: 32px;\n",
       "      padding: 0 0 0 0;\n",
       "      width: 32px;\n",
       "    }\n",
       "\n",
       "    .colab-df-convert:hover {\n",
       "      background-color: #E2EBFA;\n",
       "      box-shadow: 0px 1px 2px rgba(60, 64, 67, 0.3), 0px 1px 3px 1px rgba(60, 64, 67, 0.15);\n",
       "      fill: #174EA6;\n",
       "    }\n",
       "\n",
       "    [theme=dark] .colab-df-convert {\n",
       "      background-color: #3B4455;\n",
       "      fill: #D2E3FC;\n",
       "    }\n",
       "\n",
       "    [theme=dark] .colab-df-convert:hover {\n",
       "      background-color: #434B5C;\n",
       "      box-shadow: 0px 1px 3px 1px rgba(0, 0, 0, 0.15);\n",
       "      filter: drop-shadow(0px 1px 2px rgba(0, 0, 0, 0.3));\n",
       "      fill: #FFFFFF;\n",
       "    }\n",
       "  </style>\n",
       "\n",
       "      <script>\n",
       "        const buttonEl =\n",
       "          document.querySelector('#df-30447a30-32d2-48a7-ace9-769b57652970 button.colab-df-convert');\n",
       "        buttonEl.style.display =\n",
       "          google.colab.kernel.accessAllowed ? 'block' : 'none';\n",
       "\n",
       "        async function convertToInteractive(key) {\n",
       "          const element = document.querySelector('#df-30447a30-32d2-48a7-ace9-769b57652970');\n",
       "          const dataTable =\n",
       "            await google.colab.kernel.invokeFunction('convertToInteractive',\n",
       "                                                     [key], {});\n",
       "          if (!dataTable) return;\n",
       "\n",
       "          const docLinkHtml = 'Like what you see? Visit the ' +\n",
       "            '<a target=\"_blank\" href=https://colab.research.google.com/notebooks/data_table.ipynb>data table notebook</a>'\n",
       "            + ' to learn more about interactive tables.';\n",
       "          element.innerHTML = '';\n",
       "          dataTable['output_type'] = 'display_data';\n",
       "          await google.colab.output.renderOutput(dataTable, element);\n",
       "          const docLink = document.createElement('div');\n",
       "          docLink.innerHTML = docLinkHtml;\n",
       "          element.appendChild(docLink);\n",
       "        }\n",
       "      </script>\n",
       "    </div>\n",
       "  </div>\n",
       "  "
      ],
      "text/plain": [
       "     PREDS  TRUE\n",
       "0      1.0     1\n",
       "1      1.0     1\n",
       "2      1.0     1\n",
       "3      1.0     1\n",
       "4      1.0     1\n",
       "..     ...   ...\n",
       "195    0.0     0\n",
       "196    0.0     0\n",
       "197    0.0     0\n",
       "198    1.0     0\n",
       "199    0.0     0\n",
       "\n",
       "[200 rows x 2 columns]"
      ]
     },
     "execution_count": 44,
     "metadata": {},
     "output_type": "execute_result"
    }
   ],
   "source": [
    "# MAKING A DATAFRAME TO SEE THE TEST PREDICTIONS AND TRUE TEST LABELS\n",
    "df1=pd.DataFrame(preds)\n",
    "g = pd.DataFrame({\"PREDS\":df1[0],\"TRUE\":y2})\n",
    "g"
   ]
  },
  {
   "cell_type": "markdown",
   "metadata": {},
   "source": [
    "## EVALUATING OUR MODEL"
   ]
  },
  {
   "cell_type": "code",
   "execution_count": 45,
   "metadata": {
    "colab": {
     "base_uri": "https://localhost:8080/",
     "height": 174
    },
    "id": "7F-B_pMkYsAh",
    "outputId": "1855b0d3-e44a-4028-cfdd-43d866a3e443"
   },
   "outputs": [
    {
     "data": {
      "text/html": [
       "\n",
       "  <div id=\"df-f0e5443e-cc23-462d-91da-2bbd79f4ddee\">\n",
       "    <div class=\"colab-df-container\">\n",
       "      <div>\n",
       "<style scoped>\n",
       "    .dataframe tbody tr th:only-of-type {\n",
       "        vertical-align: middle;\n",
       "    }\n",
       "\n",
       "    .dataframe tbody tr th {\n",
       "        vertical-align: top;\n",
       "    }\n",
       "\n",
       "    .dataframe thead th {\n",
       "        text-align: right;\n",
       "    }\n",
       "</style>\n",
       "<table border=\"1\" class=\"dataframe\">\n",
       "  <thead>\n",
       "    <tr style=\"text-align: right;\">\n",
       "      <th></th>\n",
       "      <th>0</th>\n",
       "      <th>1</th>\n",
       "      <th>accuracy</th>\n",
       "      <th>macro avg</th>\n",
       "      <th>weighted avg</th>\n",
       "    </tr>\n",
       "  </thead>\n",
       "  <tbody>\n",
       "    <tr>\n",
       "      <th>precision</th>\n",
       "      <td>1.000000</td>\n",
       "      <td>0.943396</td>\n",
       "      <td>0.97</td>\n",
       "      <td>0.971698</td>\n",
       "      <td>0.971698</td>\n",
       "    </tr>\n",
       "    <tr>\n",
       "      <th>recall</th>\n",
       "      <td>0.940000</td>\n",
       "      <td>1.000000</td>\n",
       "      <td>0.97</td>\n",
       "      <td>0.970000</td>\n",
       "      <td>0.970000</td>\n",
       "    </tr>\n",
       "    <tr>\n",
       "      <th>f1-score</th>\n",
       "      <td>0.969072</td>\n",
       "      <td>0.970874</td>\n",
       "      <td>0.97</td>\n",
       "      <td>0.969973</td>\n",
       "      <td>0.969973</td>\n",
       "    </tr>\n",
       "    <tr>\n",
       "      <th>support</th>\n",
       "      <td>100.000000</td>\n",
       "      <td>100.000000</td>\n",
       "      <td>0.97</td>\n",
       "      <td>200.000000</td>\n",
       "      <td>200.000000</td>\n",
       "    </tr>\n",
       "  </tbody>\n",
       "</table>\n",
       "</div>\n",
       "      <button class=\"colab-df-convert\" onclick=\"convertToInteractive('df-f0e5443e-cc23-462d-91da-2bbd79f4ddee')\"\n",
       "              title=\"Convert this dataframe to an interactive table.\"\n",
       "              style=\"display:none;\">\n",
       "        \n",
       "  <svg xmlns=\"http://www.w3.org/2000/svg\" height=\"24px\"viewBox=\"0 0 24 24\"\n",
       "       width=\"24px\">\n",
       "    <path d=\"M0 0h24v24H0V0z\" fill=\"none\"/>\n",
       "    <path d=\"M18.56 5.44l.94 2.06.94-2.06 2.06-.94-2.06-.94-.94-2.06-.94 2.06-2.06.94zm-11 1L8.5 8.5l.94-2.06 2.06-.94-2.06-.94L8.5 2.5l-.94 2.06-2.06.94zm10 10l.94 2.06.94-2.06 2.06-.94-2.06-.94-.94-2.06-.94 2.06-2.06.94z\"/><path d=\"M17.41 7.96l-1.37-1.37c-.4-.4-.92-.59-1.43-.59-.52 0-1.04.2-1.43.59L10.3 9.45l-7.72 7.72c-.78.78-.78 2.05 0 2.83L4 21.41c.39.39.9.59 1.41.59.51 0 1.02-.2 1.41-.59l7.78-7.78 2.81-2.81c.8-.78.8-2.07 0-2.86zM5.41 20L4 18.59l7.72-7.72 1.47 1.35L5.41 20z\"/>\n",
       "  </svg>\n",
       "      </button>\n",
       "      \n",
       "  <style>\n",
       "    .colab-df-container {\n",
       "      display:flex;\n",
       "      flex-wrap:wrap;\n",
       "      gap: 12px;\n",
       "    }\n",
       "\n",
       "    .colab-df-convert {\n",
       "      background-color: #E8F0FE;\n",
       "      border: none;\n",
       "      border-radius: 50%;\n",
       "      cursor: pointer;\n",
       "      display: none;\n",
       "      fill: #1967D2;\n",
       "      height: 32px;\n",
       "      padding: 0 0 0 0;\n",
       "      width: 32px;\n",
       "    }\n",
       "\n",
       "    .colab-df-convert:hover {\n",
       "      background-color: #E2EBFA;\n",
       "      box-shadow: 0px 1px 2px rgba(60, 64, 67, 0.3), 0px 1px 3px 1px rgba(60, 64, 67, 0.15);\n",
       "      fill: #174EA6;\n",
       "    }\n",
       "\n",
       "    [theme=dark] .colab-df-convert {\n",
       "      background-color: #3B4455;\n",
       "      fill: #D2E3FC;\n",
       "    }\n",
       "\n",
       "    [theme=dark] .colab-df-convert:hover {\n",
       "      background-color: #434B5C;\n",
       "      box-shadow: 0px 1px 3px 1px rgba(0, 0, 0, 0.15);\n",
       "      filter: drop-shadow(0px 1px 2px rgba(0, 0, 0, 0.3));\n",
       "      fill: #FFFFFF;\n",
       "    }\n",
       "  </style>\n",
       "\n",
       "      <script>\n",
       "        const buttonEl =\n",
       "          document.querySelector('#df-f0e5443e-cc23-462d-91da-2bbd79f4ddee button.colab-df-convert');\n",
       "        buttonEl.style.display =\n",
       "          google.colab.kernel.accessAllowed ? 'block' : 'none';\n",
       "\n",
       "        async function convertToInteractive(key) {\n",
       "          const element = document.querySelector('#df-f0e5443e-cc23-462d-91da-2bbd79f4ddee');\n",
       "          const dataTable =\n",
       "            await google.colab.kernel.invokeFunction('convertToInteractive',\n",
       "                                                     [key], {});\n",
       "          if (!dataTable) return;\n",
       "\n",
       "          const docLinkHtml = 'Like what you see? Visit the ' +\n",
       "            '<a target=\"_blank\" href=https://colab.research.google.com/notebooks/data_table.ipynb>data table notebook</a>'\n",
       "            + ' to learn more about interactive tables.';\n",
       "          element.innerHTML = '';\n",
       "          dataTable['output_type'] = 'display_data';\n",
       "          await google.colab.output.renderOutput(dataTable, element);\n",
       "          const docLink = document.createElement('div');\n",
       "          docLink.innerHTML = docLinkHtml;\n",
       "          element.appendChild(docLink);\n",
       "        }\n",
       "      </script>\n",
       "    </div>\n",
       "  </div>\n",
       "  "
      ],
      "text/plain": [
       "                    0           1  accuracy   macro avg  weighted avg\n",
       "precision    1.000000    0.943396      0.97    0.971698      0.971698\n",
       "recall       0.940000    1.000000      0.97    0.970000      0.970000\n",
       "f1-score     0.969072    0.970874      0.97    0.969973      0.969973\n",
       "support    100.000000  100.000000      0.97  200.000000    200.000000"
      ]
     },
     "execution_count": 45,
     "metadata": {},
     "output_type": "execute_result"
    }
   ],
   "source": [
    "# USING CLASSIFICATION REPORT FOR EVALUATING OUR MODEL \n",
    "from sklearn.metrics import classification_report\n",
    "rep = pd.DataFrame(classification_report(g[\"TRUE\"],g[\"PREDS\"],output_dict=True))\n",
    "rep"
   ]
  },
  {
   "cell_type": "code",
   "execution_count": null,
   "metadata": {
    "id": "PO52AZlJ-s6V"
   },
   "outputs": [],
   "source": [
    "# HENCE WE WERRE ABLE TO ACHIEVE 0.97 ACCURACY ALONG WITH THE PRECISION, RECALL AND F1-SCORE AS GIVEN IN THE CLASSIFICATION REPORT"
   ]
  },
  {
   "cell_type": "markdown",
   "metadata": {},
   "source": [
    "# THANKYOU"
   ]
  }
 ],
 "metadata": {
  "accelerator": "GPU",
  "colab": {
   "provenance": []
  },
  "gpuClass": "standard",
  "kernelspec": {
   "display_name": "Python 3 (ipykernel)",
   "language": "python",
   "name": "python3"
  },
  "language_info": {
   "codemirror_mode": {
    "name": "ipython",
    "version": 3
   },
   "file_extension": ".py",
   "mimetype": "text/x-python",
   "name": "python",
   "nbconvert_exporter": "python",
   "pygments_lexer": "ipython3",
   "version": "3.9.12"
  }
 },
 "nbformat": 4,
 "nbformat_minor": 1
}
